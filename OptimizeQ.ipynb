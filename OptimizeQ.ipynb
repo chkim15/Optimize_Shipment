{
 "cells": [
  {
   "cell_type": "markdown",
   "id": "d94af15c",
   "metadata": {},
   "source": [
    "# Optimization Tool for Shipment Quantities"
   ]
  },
  {
   "cell_type": "markdown",
   "id": "b211045d",
   "metadata": {},
   "source": [
    "### Problem: We are often asked to quote prices based on which products and how much quantities our customers want. There are many factors to consider before making the decision, but currently we do not have an easy method to solve it."
   ]
  },
  {
   "cell_type": "markdown",
   "id": "90f3bd98",
   "metadata": {},
   "source": [
    "### This is a tool that helps us to find the optimal quantities of requested items for shipment. Below are what need to be considered:\n",
    "\n",
    "- The total volume must not exceed a container's capacity (containers: 20ft, 40ft, 40hq).  \n",
    "- There might be some production capacity for certain products, so the shipment quantity cannot go over that.  \n",
    "- 'Demand' indicates what the customer is requesting for quote. This tool will adjust quantities from this 'Demand' while keeping the constraints and objective.\n",
    "- The objective is to maximize the profit."
   ]
  },
  {
   "cell_type": "code",
   "execution_count": null,
   "id": "5b660687",
   "metadata": {},
   "outputs": [],
   "source": [
    "import numpy as np\n",
    "import pandas as pd\n",
    "import pulp as pl"
   ]
  },
  {
   "cell_type": "markdown",
   "id": "8cf85fb9",
   "metadata": {},
   "source": [
    "#### Below DataFrame contains the volume (CBM), unit profit, and quantity per box (in yards) for each item."
   ]
  },
  {
   "cell_type": "code",
   "execution_count": 81,
   "id": "ee035447",
   "metadata": {},
   "outputs": [
    {
     "data": {
      "text/html": [
       "<div>\n",
       "<style scoped>\n",
       "    .dataframe tbody tr th:only-of-type {\n",
       "        vertical-align: middle;\n",
       "    }\n",
       "\n",
       "    .dataframe tbody tr th {\n",
       "        vertical-align: top;\n",
       "    }\n",
       "\n",
       "    .dataframe thead th {\n",
       "        text-align: right;\n",
       "    }\n",
       "</style>\n",
       "<table border=\"1\" class=\"dataframe\">\n",
       "  <thead>\n",
       "    <tr style=\"text-align: right;\">\n",
       "      <th></th>\n",
       "      <th>Item</th>\n",
       "      <th>Per Box</th>\n",
       "      <th>Width</th>\n",
       "      <th>Length</th>\n",
       "      <th>Height</th>\n",
       "      <th>Unit Profit</th>\n",
       "      <th>CBM</th>\n",
       "    </tr>\n",
       "  </thead>\n",
       "  <tbody>\n",
       "    <tr>\n",
       "      <th>0</th>\n",
       "      <td>Satin Taffeta K-1479</td>\n",
       "      <td>250</td>\n",
       "      <td>1.51</td>\n",
       "      <td>0.21</td>\n",
       "      <td>0.51</td>\n",
       "      <td>0.93</td>\n",
       "      <td>0.161721</td>\n",
       "    </tr>\n",
       "    <tr>\n",
       "      <th>1</th>\n",
       "      <td>Taffeta K-2790</td>\n",
       "      <td>250</td>\n",
       "      <td>0.80</td>\n",
       "      <td>0.19</td>\n",
       "      <td>0.33</td>\n",
       "      <td>0.84</td>\n",
       "      <td>0.050160</td>\n",
       "    </tr>\n",
       "    <tr>\n",
       "      <th>2</th>\n",
       "      <td>Hi Multi Chiffon K-711</td>\n",
       "      <td>500</td>\n",
       "      <td>1.52</td>\n",
       "      <td>0.23</td>\n",
       "      <td>0.57</td>\n",
       "      <td>0.89</td>\n",
       "      <td>0.199272</td>\n",
       "    </tr>\n",
       "    <tr>\n",
       "      <th>3</th>\n",
       "      <td>Rendezvous Chiffon K-2420</td>\n",
       "      <td>500</td>\n",
       "      <td>1.52</td>\n",
       "      <td>0.25</td>\n",
       "      <td>0.61</td>\n",
       "      <td>0.92</td>\n",
       "      <td>0.231800</td>\n",
       "    </tr>\n",
       "    <tr>\n",
       "      <th>4</th>\n",
       "      <td>Knit Chiffon K-2108</td>\n",
       "      <td>500</td>\n",
       "      <td>1.52</td>\n",
       "      <td>0.28</td>\n",
       "      <td>0.70</td>\n",
       "      <td>0.60</td>\n",
       "      <td>0.297920</td>\n",
       "    </tr>\n",
       "  </tbody>\n",
       "</table>\n",
       "</div>"
      ],
      "text/plain": [
       "                         Item  Per Box  Width  Length  Height  Unit Profit  \\\n",
       "0       Satin Taffeta K-1479       250   1.51    0.21    0.51         0.93   \n",
       "1             Taffeta K-2790       250   0.80    0.19    0.33         0.84   \n",
       "2     Hi Multi Chiffon K-711       500   1.52    0.23    0.57         0.89   \n",
       "3  Rendezvous Chiffon K-2420       500   1.52    0.25    0.61         0.92   \n",
       "4        Knit Chiffon K-2108       500   1.52    0.28    0.70         0.60   \n",
       "\n",
       "        CBM  \n",
       "0  0.161721  \n",
       "1  0.050160  \n",
       "2  0.199272  \n",
       "3  0.231800  \n",
       "4  0.297920  "
      ]
     },
     "execution_count": 81,
     "metadata": {},
     "output_type": "execute_result"
    }
   ],
   "source": [
    "df_box = pd.read_excel(\"box_sizes.xlsx\")\n",
    "df_box['CBM'] = df_box['Width'] * df_box['Length'] * df_box['Height']\n",
    "df_box.head()"
   ]
  },
  {
   "cell_type": "markdown",
   "id": "033f3554",
   "metadata": {},
   "source": [
    "#### Input data: item, demand, and production capacity  \n",
    "* If there is no capacity limit, put a big number (> 100,000)"
   ]
  },
  {
   "cell_type": "code",
   "execution_count": 128,
   "id": "5c5c5ab8",
   "metadata": {},
   "outputs": [
    {
     "data": {
      "application/vnd.jupyter.widget-view+json": {
       "model_id": "77503195bbc6446897a53342c91483ac",
       "version_major": 2,
       "version_minor": 0
      },
      "text/plain": [
       "Dropdown(description='Select Item:', options=('Satin Taffeta K-1479 ', 'Taffeta K-2790 ', 'Hi Multi Chiffon K-…"
      ]
     },
     "metadata": {},
     "output_type": "display_data"
    },
    {
     "data": {
      "application/vnd.jupyter.widget-view+json": {
       "model_id": "84ac5dcc102745908d415d587ab12b41",
       "version_major": 2,
       "version_minor": 0
      },
      "text/plain": [
       "IntText(value=0, description='Demand:')"
      ]
     },
     "metadata": {},
     "output_type": "display_data"
    },
    {
     "data": {
      "application/vnd.jupyter.widget-view+json": {
       "model_id": "0f16e86169254bc2ab0e1d541461e0b5",
       "version_major": 2,
       "version_minor": 0
      },
      "text/plain": [
       "IntText(value=0, description='Capacity:')"
      ]
     },
     "metadata": {},
     "output_type": "display_data"
    },
    {
     "data": {
      "application/vnd.jupyter.widget-view+json": {
       "model_id": "bfe3a9b814ce42319f4b27fc227697ae",
       "version_major": 2,
       "version_minor": 0
      },
      "text/plain": [
       "Button(description='Save Data', style=ButtonStyle())"
      ]
     },
     "metadata": {},
     "output_type": "display_data"
    },
    {
     "name": "stdout",
     "output_type": "stream",
     "text": [
      "Current selections: [{'item': 'Hi Multi Chiffon K-711 ', 'demand': 50000, 'capacity': 100000}]\n",
      "Current selections: [{'item': 'Hi Multi Chiffon K-711 ', 'demand': 50000, 'capacity': 100000}, {'item': 'Satin Taffeta K-1479 ', 'demand': 30000, 'capacity': 100000}]\n",
      "Current selections: [{'item': 'Hi Multi Chiffon K-711 ', 'demand': 50000, 'capacity': 100000}, {'item': 'Satin Taffeta K-1479 ', 'demand': 30000, 'capacity': 100000}, {'item': 'Velvet  (320G)', 'demand': 20000, 'capacity': 100000}]\n",
      "Current selections: [{'item': 'Hi Multi Chiffon K-711 ', 'demand': 50000, 'capacity': 100000}, {'item': 'Satin Taffeta K-1479 ', 'demand': 45000, 'capacity': 100000}, {'item': 'Velvet  (320G)', 'demand': 20000, 'capacity': 100000}]\n",
      "Current selections: [{'item': 'Hi Multi Chiffon K-711 ', 'demand': 50000, 'capacity': 100000}, {'item': 'Satin Taffeta K-1479 ', 'demand': 45000, 'capacity': 100000}, {'item': 'Velvet  (320G)', 'demand': 20000, 'capacity': 100000}, {'item': 'Poly Tull ', 'demand': 10000, 'capacity': 100000}]\n",
      "Current selections: [{'item': 'Hi Multi Chiffon K-711 ', 'demand': 10000, 'capacity': 45000}, {'item': 'Satin Taffeta K-1479 ', 'demand': 45000, 'capacity': 100000}, {'item': 'Velvet  (320G)', 'demand': 20000, 'capacity': 100000}, {'item': 'Poly Tull ', 'demand': 10000, 'capacity': 100000}]\n",
      "Current selections: [{'item': 'Hi Multi Chiffon K-711 ', 'demand': 10000, 'capacity': 45000}, {'item': 'Satin Taffeta K-1479 ', 'demand': 45000, 'capacity': 100000}, {'item': 'Velvet  (320G)', 'demand': 20000, 'capacity': 100000}, {'item': 'Poly Tull ', 'demand': 10000, 'capacity': 100000}]\n",
      "Current selections: [{'item': 'Hi Multi Chiffon K-711 ', 'demand': 10000, 'capacity': 45000}, {'item': 'Satin Taffeta K-1479 ', 'demand': 45000, 'capacity': 100000}, {'item': 'Velvet  (320G)', 'demand': 20000, 'capacity': 100000}, {'item': 'Poly Tull ', 'demand': 10000, 'capacity': 100000}]\n",
      "Current selections: [{'item': 'Hi Multi Chiffon K-711 ', 'demand': 50000, 'capacity': 45000}, {'item': 'Satin Taffeta K-1479 ', 'demand': 45000, 'capacity': 100000}, {'item': 'Velvet  (320G)', 'demand': 20000, 'capacity': 100000}, {'item': 'Poly Tull ', 'demand': 10000, 'capacity': 100000}]\n"
     ]
    }
   ],
   "source": [
    "import ipywidgets as widgets\n",
    "from IPython.display import display\n",
    "\n",
    "# Dropdown for item selection\n",
    "dropdown = widgets.Dropdown(\n",
    "    options=df_box['Item'].dropna().unique(),\n",
    "    description='Select Item:',\n",
    "    disabled=False,\n",
    ")\n",
    "\n",
    "# Input boxes for demand and capacity\n",
    "demand_box = widgets.IntText(description='Demand:')\n",
    "capacity_box = widgets.IntText(description='Capacity:')\n",
    "save_button = widgets.Button(description='Save Data')\n",
    "\n",
    "# List to store the selections along with demand and capacity\n",
    "selections = []\n",
    "\n",
    "# Variable to keep track of the currently selected item\n",
    "current_item = None\n",
    "\n",
    "# Function to handle changes in the dropdown\n",
    "def dropdown_eventhandler(change):\n",
    "    global current_item\n",
    "    current_item = change.new\n",
    "\n",
    "# Function to handle saving the data\n",
    "def save_data(b):\n",
    "    if current_item is not None:\n",
    "        # Check if the item already exists in the selections\n",
    "        existing_entry = next((entry for entry in selections if entry['item'] == current_item), None)\n",
    "        \n",
    "        if existing_entry:\n",
    "            # Update the existing entry\n",
    "            existing_entry['demand'] = demand_box.value\n",
    "            existing_entry['capacity'] = capacity_box.value\n",
    "        else:\n",
    "            # Add a new entry\n",
    "            selections.append({'item': current_item, 'demand': demand_box.value, 'capacity': capacity_box.value})\n",
    "        \n",
    "        print(f\"Current selections: {selections}\")\n",
    "\n",
    "# Set up event handlers\n",
    "dropdown.observe(dropdown_eventhandler, names='value')\n",
    "save_button.on_click(save_data)\n",
    "\n",
    "# Display the widgets\n",
    "display(dropdown, demand_box, capacity_box, save_button)"
   ]
  },
  {
   "cell_type": "markdown",
   "id": "1d8ebef7",
   "metadata": {},
   "source": [
    "#### Select container size"
   ]
  },
  {
   "cell_type": "code",
   "execution_count": 206,
   "id": "a4381b85",
   "metadata": {},
   "outputs": [
    {
     "data": {
      "application/vnd.jupyter.widget-view+json": {
       "model_id": "845fe303322040bfa8be46bb25cbf653",
       "version_major": 2,
       "version_minor": 0
      },
      "text/plain": [
       "Dropdown(description='Container:', options=('20ft', '40ft', '40hq'), value='20ft')"
      ]
     },
     "metadata": {},
     "output_type": "display_data"
    },
    {
     "name": "stdout",
     "output_type": "stream",
     "text": [
      "Selected container: 40hq\n"
     ]
    }
   ],
   "source": [
    "import ipywidgets as widgets\n",
    "from IPython.display import display\n",
    "\n",
    "# Dropdown for container selection\n",
    "container_dropdown = widgets.Dropdown(\n",
    "    options=['20ft', '40ft', '40hq'],\n",
    "    description='Container:',\n",
    "    disabled=False,\n",
    ")\n",
    "\n",
    "# Variable to store the selected container type\n",
    "selected_container = None\n",
    "\n",
    "# Function to handle changes in the dropdown\n",
    "def dropdown_eventhandler(change):\n",
    "    global selected_container\n",
    "    selected_container = change.new\n",
    "    print(f\"Selected container: {selected_container}\")\n",
    "\n",
    "# Observe function for the dropdown\n",
    "container_dropdown.observe(dropdown_eventhandler, names='value')\n",
    "\n",
    "# Display the dropdown\n",
    "display(container_dropdown)"
   ]
  },
  {
   "cell_type": "code",
   "execution_count": 207,
   "id": "643c232f",
   "metadata": {},
   "outputs": [
    {
     "data": {
      "text/html": [
       "<div>\n",
       "<style scoped>\n",
       "    .dataframe tbody tr th:only-of-type {\n",
       "        vertical-align: middle;\n",
       "    }\n",
       "\n",
       "    .dataframe tbody tr th {\n",
       "        vertical-align: top;\n",
       "    }\n",
       "\n",
       "    .dataframe thead th {\n",
       "        text-align: right;\n",
       "    }\n",
       "</style>\n",
       "<table border=\"1\" class=\"dataframe\">\n",
       "  <thead>\n",
       "    <tr style=\"text-align: right;\">\n",
       "      <th></th>\n",
       "      <th>item</th>\n",
       "      <th>demand</th>\n",
       "      <th>capacity</th>\n",
       "    </tr>\n",
       "  </thead>\n",
       "  <tbody>\n",
       "    <tr>\n",
       "      <th>0</th>\n",
       "      <td>Hi Multi Chiffon K-711</td>\n",
       "      <td>50000</td>\n",
       "      <td>45000</td>\n",
       "    </tr>\n",
       "    <tr>\n",
       "      <th>1</th>\n",
       "      <td>Satin Taffeta K-1479</td>\n",
       "      <td>45000</td>\n",
       "      <td>100000</td>\n",
       "    </tr>\n",
       "    <tr>\n",
       "      <th>2</th>\n",
       "      <td>Velvet  (320G)</td>\n",
       "      <td>20000</td>\n",
       "      <td>100000</td>\n",
       "    </tr>\n",
       "    <tr>\n",
       "      <th>3</th>\n",
       "      <td>Poly Tull</td>\n",
       "      <td>10000</td>\n",
       "      <td>100000</td>\n",
       "    </tr>\n",
       "  </tbody>\n",
       "</table>\n",
       "</div>"
      ],
      "text/plain": [
       "                      item  demand  capacity\n",
       "0  Hi Multi Chiffon K-711    50000     45000\n",
       "1    Satin Taffeta K-1479    45000    100000\n",
       "2           Velvet  (320G)   20000    100000\n",
       "3               Poly Tull    10000    100000"
      ]
     },
     "execution_count": 207,
     "metadata": {},
     "output_type": "execute_result"
    }
   ],
   "source": [
    "df_selected = pd.DataFrame(selections)\n",
    "df_selected"
   ]
  },
  {
   "cell_type": "code",
   "execution_count": 208,
   "id": "95404660",
   "metadata": {},
   "outputs": [
    {
     "data": {
      "text/plain": [
       "'40hq'"
      ]
     },
     "execution_count": 208,
     "metadata": {},
     "output_type": "execute_result"
    }
   ],
   "source": [
    "selected_container"
   ]
  },
  {
   "cell_type": "code",
   "execution_count": 209,
   "id": "212e9ef3",
   "metadata": {},
   "outputs": [],
   "source": [
    "# Dimensions for each container size\n",
    "dim_20ft = (2.33, 5.9, 2.35)\n",
    "dim_40ft = (2.33, 11.99, 2.35)\n",
    "dim_40hq = (2.33, 11.99, 2.68)\n",
    "\n",
    "# Volume for each container size\n",
    "cbm_20ft = dim_20ft[0] * dim_20ft[1] * dim_20ft[2]\n",
    "cbm_40ft = dim_40ft[0] * dim_40ft[1] * dim_40ft[2]\n",
    "cbm_40hq = dim_40hq[0] * dim_40hq[1] * dim_40hq[2]"
   ]
  },
  {
   "cell_type": "code",
   "execution_count": 210,
   "id": "f2f0c123",
   "metadata": {},
   "outputs": [
    {
     "data": {
      "text/html": [
       "<div>\n",
       "<style scoped>\n",
       "    .dataframe tbody tr th:only-of-type {\n",
       "        vertical-align: middle;\n",
       "    }\n",
       "\n",
       "    .dataframe tbody tr th {\n",
       "        vertical-align: top;\n",
       "    }\n",
       "\n",
       "    .dataframe thead th {\n",
       "        text-align: right;\n",
       "    }\n",
       "</style>\n",
       "<table border=\"1\" class=\"dataframe\">\n",
       "  <thead>\n",
       "    <tr style=\"text-align: right;\">\n",
       "      <th></th>\n",
       "      <th>item</th>\n",
       "      <th>demand</th>\n",
       "      <th>capacity</th>\n",
       "      <th>Per Box</th>\n",
       "      <th>Unit Profit</th>\n",
       "      <th>CBM</th>\n",
       "    </tr>\n",
       "  </thead>\n",
       "  <tbody>\n",
       "    <tr>\n",
       "      <th>0</th>\n",
       "      <td>Hi Multi Chiffon K-711</td>\n",
       "      <td>50000</td>\n",
       "      <td>45000</td>\n",
       "      <td>500</td>\n",
       "      <td>0.89</td>\n",
       "      <td>0.199272</td>\n",
       "    </tr>\n",
       "    <tr>\n",
       "      <th>1</th>\n",
       "      <td>Satin Taffeta K-1479</td>\n",
       "      <td>45000</td>\n",
       "      <td>100000</td>\n",
       "      <td>250</td>\n",
       "      <td>0.93</td>\n",
       "      <td>0.161721</td>\n",
       "    </tr>\n",
       "    <tr>\n",
       "      <th>2</th>\n",
       "      <td>Velvet  (320G)</td>\n",
       "      <td>20000</td>\n",
       "      <td>100000</td>\n",
       "      <td>150</td>\n",
       "      <td>0.88</td>\n",
       "      <td>0.209250</td>\n",
       "    </tr>\n",
       "    <tr>\n",
       "      <th>3</th>\n",
       "      <td>Poly Tull</td>\n",
       "      <td>10000</td>\n",
       "      <td>100000</td>\n",
       "      <td>500</td>\n",
       "      <td>0.68</td>\n",
       "      <td>0.224532</td>\n",
       "    </tr>\n",
       "  </tbody>\n",
       "</table>\n",
       "</div>"
      ],
      "text/plain": [
       "                      item  demand  capacity  Per Box  Unit Profit       CBM\n",
       "0  Hi Multi Chiffon K-711    50000     45000      500         0.89  0.199272\n",
       "1    Satin Taffeta K-1479    45000    100000      250         0.93  0.161721\n",
       "2           Velvet  (320G)   20000    100000      150         0.88  0.209250\n",
       "3               Poly Tull    10000    100000      500         0.68  0.224532"
      ]
     },
     "execution_count": 210,
     "metadata": {},
     "output_type": "execute_result"
    }
   ],
   "source": [
    "df_merged = df_selected.merge(df_box, left_on='item', right_on='Item')\n",
    "df_merged = df_merged.drop(['Item', 'Width', 'Length', 'Height'], axis=1)\n",
    "df_merged"
   ]
  },
  {
   "cell_type": "code",
   "execution_count": 211,
   "id": "9ef7fe31",
   "metadata": {},
   "outputs": [],
   "source": [
    "m = pl.LpProblem('Textiles', pl.LpMaximize)"
   ]
  },
  {
   "cell_type": "code",
   "execution_count": 212,
   "id": "fded0bba",
   "metadata": {},
   "outputs": [],
   "source": [
    "# Create variables\n",
    "x = []\n",
    "for i in df_merged.index:\n",
    "    x.append(pl.LpVariable(f'q_{i}', cat='Integer') )\n",
    "    \n",
    "x = np.array(x)"
   ]
  },
  {
   "cell_type": "code",
   "execution_count": 213,
   "id": "13b17abd",
   "metadata": {},
   "outputs": [],
   "source": [
    "# Create constraints\n",
    "\n",
    "# Production for each item has a capacity constraint\n",
    "for i in df_merged.index:\n",
    "    m += (x[i] <= df_merged.capacity[i], f'Production capacity constraint {i}')\n",
    "\n",
    "# Must produce at least as much as demand\n",
    "for i in df_merged.index:\n",
    "    m += (x[i] >= df_merged.demand[i] - 0.2 * df_merged.demand[i], f'Item {i} minimum constraint')\n",
    "    m += (x[i] <= df_merged.demand[i] + 0.2 * df_merged.demand[i], f'Item {i} maximum constraint')\n",
    "\n",
    "# Total volume of all boxes must be less than 0.9 times volume of container\n",
    "m += (pl.lpSum(np.array(df_merged['CBM']) * x / df_merged['Per Box']) <= 0.9 * cbm_40hq)"
   ]
  },
  {
   "cell_type": "code",
   "execution_count": 214,
   "id": "85265bd5",
   "metadata": {},
   "outputs": [],
   "source": [
    "m += pl.lpSum(np.array(df_merged['Unit Profit']) * x)"
   ]
  },
  {
   "cell_type": "code",
   "execution_count": 215,
   "id": "b81167cf",
   "metadata": {},
   "outputs": [
    {
     "data": {
      "text/plain": [
       "Textiles:\n",
       "MAXIMIZE\n",
       "0.89*q_0 + 0.93*q_1 + 0.88*q_2 + 0.68*q_3 + 0.0\n",
       "SUBJECT TO\n",
       "Production_capacity_constraint_0: q_0 <= 45000\n",
       "\n",
       "Production_capacity_constraint_1: q_1 <= 100000\n",
       "\n",
       "Production_capacity_constraint_2: q_2 <= 100000\n",
       "\n",
       "Production_capacity_constraint_3: q_3 <= 100000\n",
       "\n",
       "Item_0_minimum_constraint: q_0 >= 40000\n",
       "\n",
       "Item_0_maximum_constraint: q_0 <= 60000\n",
       "\n",
       "Item_1_minimum_constraint: q_1 >= 36000\n",
       "\n",
       "Item_1_maximum_constraint: q_1 <= 54000\n",
       "\n",
       "Item_2_minimum_constraint: q_2 >= 16000\n",
       "\n",
       "Item_2_maximum_constraint: q_2 <= 24000\n",
       "\n",
       "Item_3_minimum_constraint: q_3 >= 8000\n",
       "\n",
       "Item_3_maximum_constraint: q_3 <= 12000\n",
       "\n",
       "_C1: 0.000398544 q_0 + 0.000646884 q_1 + 0.001395 q_2 + 0.000449064 q_3\n",
       " <= 67.3833204\n",
       "\n",
       "VARIABLES\n",
       "q_0 free Integer\n",
       "q_1 free Integer\n",
       "q_2 free Integer\n",
       "q_3 free Integer"
      ]
     },
     "execution_count": 215,
     "metadata": {},
     "output_type": "execute_result"
    }
   ],
   "source": [
    "m"
   ]
  },
  {
   "cell_type": "code",
   "execution_count": 216,
   "id": "4de5ef90",
   "metadata": {},
   "outputs": [
    {
     "name": "stdout",
     "output_type": "stream",
     "text": [
      "Shipment accepted\n"
     ]
    }
   ],
   "source": [
    "# Solve the linear optimization problem\n",
    "result = pl.PULP_CBC_CMD().solve(m)\n",
    "\n",
    "if result == 1:\n",
    "    print(\"Shipment accepted\")\n",
    "else:\n",
    "    print(\"Shipment not accepted\")"
   ]
  },
  {
   "cell_type": "code",
   "execution_count": 217,
   "id": "f1a6f400",
   "metadata": {},
   "outputs": [
    {
     "data": {
      "text/plain": [
       "93426.11000000002"
      ]
     },
     "execution_count": 217,
     "metadata": {},
     "output_type": "execute_result"
    }
   ],
   "source": [
    "# Obtain optimal solution\n",
    "optimal_soln = m.objective.value()\n",
    "optimal_soln"
   ]
  },
  {
   "cell_type": "code",
   "execution_count": 221,
   "id": "795ba920",
   "metadata": {},
   "outputs": [
    {
     "data": {
      "text/html": [
       "<div>\n",
       "<style scoped>\n",
       "    .dataframe tbody tr th:only-of-type {\n",
       "        vertical-align: middle;\n",
       "    }\n",
       "\n",
       "    .dataframe tbody tr th {\n",
       "        vertical-align: top;\n",
       "    }\n",
       "\n",
       "    .dataframe thead th {\n",
       "        text-align: right;\n",
       "    }\n",
       "</style>\n",
       "<table border=\"1\" class=\"dataframe\">\n",
       "  <thead>\n",
       "    <tr style=\"text-align: right;\">\n",
       "      <th></th>\n",
       "      <th>item</th>\n",
       "      <th>demand</th>\n",
       "      <th>capacity</th>\n",
       "      <th>Per Box</th>\n",
       "      <th>Unit Profit</th>\n",
       "      <th>CBM</th>\n",
       "      <th>Production</th>\n",
       "    </tr>\n",
       "  </thead>\n",
       "  <tbody>\n",
       "    <tr>\n",
       "      <th>0</th>\n",
       "      <td>Hi Multi Chiffon K-711</td>\n",
       "      <td>50000</td>\n",
       "      <td>45000</td>\n",
       "      <td>500</td>\n",
       "      <td>0.89</td>\n",
       "      <td>0.199272</td>\n",
       "      <td>45000.0</td>\n",
       "    </tr>\n",
       "    <tr>\n",
       "      <th>1</th>\n",
       "      <td>Satin Taffeta K-1479</td>\n",
       "      <td>45000</td>\n",
       "      <td>100000</td>\n",
       "      <td>250</td>\n",
       "      <td>0.93</td>\n",
       "      <td>0.161721</td>\n",
       "      <td>36003.0</td>\n",
       "    </tr>\n",
       "    <tr>\n",
       "      <th>2</th>\n",
       "      <td>Velvet  (320G)</td>\n",
       "      <td>20000</td>\n",
       "      <td>100000</td>\n",
       "      <td>150</td>\n",
       "      <td>0.88</td>\n",
       "      <td>0.209250</td>\n",
       "      <td>16000.0</td>\n",
       "    </tr>\n",
       "    <tr>\n",
       "      <th>3</th>\n",
       "      <td>Poly Tull</td>\n",
       "      <td>10000</td>\n",
       "      <td>100000</td>\n",
       "      <td>500</td>\n",
       "      <td>0.68</td>\n",
       "      <td>0.224532</td>\n",
       "      <td>8549.0</td>\n",
       "    </tr>\n",
       "  </tbody>\n",
       "</table>\n",
       "</div>"
      ],
      "text/plain": [
       "                      item  demand  capacity  Per Box  Unit Profit       CBM  \\\n",
       "0  Hi Multi Chiffon K-711    50000     45000      500         0.89  0.199272   \n",
       "1    Satin Taffeta K-1479    45000    100000      250         0.93  0.161721   \n",
       "2           Velvet  (320G)   20000    100000      150         0.88  0.209250   \n",
       "3               Poly Tull    10000    100000      500         0.68  0.224532   \n",
       "\n",
       "   Production  \n",
       "0     45000.0  \n",
       "1     36003.0  \n",
       "2     16000.0  \n",
       "3      8549.0  "
      ]
     },
     "execution_count": 221,
     "metadata": {},
     "output_type": "execute_result"
    }
   ],
   "source": [
    "df_merged['Production'] = [x[i].value() for i in range(len(x))]\n",
    "df_merged"
   ]
  },
  {
   "cell_type": "code",
   "execution_count": 222,
   "id": "c5158a06",
   "metadata": {},
   "outputs": [],
   "source": [
    "# Round down to thousands because orders are usually made in thousands and rounding up can cause excess capacity\n",
    "df_merged['Production'] = ((df_merged['Production'] // 1000) * 1000).astype(int)"
   ]
  },
  {
   "cell_type": "code",
   "execution_count": 223,
   "id": "cbafd3a7",
   "metadata": {},
   "outputs": [
    {
     "data": {
      "text/html": [
       "<div>\n",
       "<style scoped>\n",
       "    .dataframe tbody tr th:only-of-type {\n",
       "        vertical-align: middle;\n",
       "    }\n",
       "\n",
       "    .dataframe tbody tr th {\n",
       "        vertical-align: top;\n",
       "    }\n",
       "\n",
       "    .dataframe thead th {\n",
       "        text-align: right;\n",
       "    }\n",
       "</style>\n",
       "<table border=\"1\" class=\"dataframe\">\n",
       "  <thead>\n",
       "    <tr style=\"text-align: right;\">\n",
       "      <th></th>\n",
       "      <th>item</th>\n",
       "      <th>demand</th>\n",
       "      <th>capacity</th>\n",
       "      <th>Per Box</th>\n",
       "      <th>Unit Profit</th>\n",
       "      <th>CBM</th>\n",
       "      <th>Production</th>\n",
       "    </tr>\n",
       "  </thead>\n",
       "  <tbody>\n",
       "    <tr>\n",
       "      <th>0</th>\n",
       "      <td>Hi Multi Chiffon K-711</td>\n",
       "      <td>50000</td>\n",
       "      <td>45000</td>\n",
       "      <td>500</td>\n",
       "      <td>0.89</td>\n",
       "      <td>0.199272</td>\n",
       "      <td>45000</td>\n",
       "    </tr>\n",
       "    <tr>\n",
       "      <th>1</th>\n",
       "      <td>Satin Taffeta K-1479</td>\n",
       "      <td>45000</td>\n",
       "      <td>100000</td>\n",
       "      <td>250</td>\n",
       "      <td>0.93</td>\n",
       "      <td>0.161721</td>\n",
       "      <td>36000</td>\n",
       "    </tr>\n",
       "    <tr>\n",
       "      <th>2</th>\n",
       "      <td>Velvet  (320G)</td>\n",
       "      <td>20000</td>\n",
       "      <td>100000</td>\n",
       "      <td>150</td>\n",
       "      <td>0.88</td>\n",
       "      <td>0.209250</td>\n",
       "      <td>16000</td>\n",
       "    </tr>\n",
       "    <tr>\n",
       "      <th>3</th>\n",
       "      <td>Poly Tull</td>\n",
       "      <td>10000</td>\n",
       "      <td>100000</td>\n",
       "      <td>500</td>\n",
       "      <td>0.68</td>\n",
       "      <td>0.224532</td>\n",
       "      <td>8000</td>\n",
       "    </tr>\n",
       "  </tbody>\n",
       "</table>\n",
       "</div>"
      ],
      "text/plain": [
       "                      item  demand  capacity  Per Box  Unit Profit       CBM  \\\n",
       "0  Hi Multi Chiffon K-711    50000     45000      500         0.89  0.199272   \n",
       "1    Satin Taffeta K-1479    45000    100000      250         0.93  0.161721   \n",
       "2           Velvet  (320G)   20000    100000      150         0.88  0.209250   \n",
       "3               Poly Tull    10000    100000      500         0.68  0.224532   \n",
       "\n",
       "   Production  \n",
       "0       45000  \n",
       "1       36000  \n",
       "2       16000  \n",
       "3        8000  "
      ]
     },
     "execution_count": 223,
     "metadata": {},
     "output_type": "execute_result"
    }
   ],
   "source": [
    "df_merged"
   ]
  },
  {
   "cell_type": "markdown",
   "id": "c620cc1d",
   "metadata": {},
   "source": [
    "### 'Production' column shows the optimal quantities we can sell for this customer."
   ]
  }
 ],
 "metadata": {
  "kernelspec": {
   "display_name": "Python 3 (ipykernel)",
   "language": "python",
   "name": "python3"
  },
  "language_info": {
   "codemirror_mode": {
    "name": "ipython",
    "version": 3
   },
   "file_extension": ".py",
   "mimetype": "text/x-python",
   "name": "python",
   "nbconvert_exporter": "python",
   "pygments_lexer": "ipython3",
   "version": "3.9.13"
  }
 },
 "nbformat": 4,
 "nbformat_minor": 5
}
